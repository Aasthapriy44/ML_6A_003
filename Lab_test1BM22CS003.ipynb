{
  "nbformat": 4,
  "nbformat_minor": 0,
  "metadata": {
    "colab": {
      "provenance": [],
      "authorship_tag": "ABX9TyOCeRt+Ed8Q5YthXlB+l8Ai",
      "include_colab_link": true
    },
    "kernelspec": {
      "name": "python3",
      "display_name": "Python 3"
    },
    "language_info": {
      "name": "python"
    }
  },
  "cells": [
    {
      "cell_type": "markdown",
      "metadata": {
        "id": "view-in-github",
        "colab_type": "text"
      },
      "source": [
        "<a href=\"https://colab.research.google.com/github/Aasthapriy44/ML_6A_003/blob/main/Lab_test1BM22CS003.ipynb\" target=\"_parent\"><img src=\"https://colab.research.google.com/assets/colab-badge.svg\" alt=\"Open In Colab\"/></a>"
      ]
    },
    {
      "cell_type": "code",
      "source": [],
      "metadata": {
        "id": "CSHPizLR-SP-"
      },
      "execution_count": null,
      "outputs": []
    },
    {
      "cell_type": "code",
      "source": [
        "import pandas as pd\n",
        "from sklearn.model_selection import train_test_split\n",
        "from sklearn.linear_model import LinearRegression\n",
        "from sklearn.tree import DecisionTreeRegressor\n",
        "from sklearn.metrics import mean_squared_error\n",
        "\n",
        "X = data[['Temperature', 'Time_of_Day', 'Light_Intensity']]\n",
        "y = data['Power_Consumption']\n",
        "X_train, X_test, y_train, y_test = train_test_split(X, y, test_size=0.2, random_state=42)\n",
        "lr_model = LinearRegression()\n",
        "lr_model.fit(X_train, y_train)\n",
        "\n",
        "dt_model = DecisionTreeRegressor(random_state=42)\n",
        "dt_model.fit(X_train, y_train)\n",
        "new_data = pd.DataFrame({'Temperature': [14], 'Time_of_Day': [7], 'Light_Intensity': [300]})\n",
        "lr_prediction = lr_model.predict(new_data)\n",
        "dt_prediction = dt_model.predict(new_data)\n",
        "lr_rmse = mean_squared_error(y_test, lr_model.predict(X_test))\n",
        "dt_rmse = mean_squared_error(y_test, dt_model.predict(X_test))\n",
        "\n",
        "print(f\"Power consumption (Linear Regression): {lr_prediction[0]}\")\n",
        "print(f\"Root Mean Squared Error (Linear Regression): {lr_rmse}\")\n",
        "print(f\"Power consumption (Decision Tree): {dt_prediction[0]}\")\n",
        "print(f\"Root Mean Squared Error (Decision Tree): {dt_rmse}\")\n",
        "if lr_rmse < dt_rmse:\n",
        "    print(\"Linear Regression algorithm is better based on RMSE.\")\n",
        "else:\n",
        "    print(\"Decision Tree algorithm is better based on RMSE.\")"
      ],
      "metadata": {
        "colab": {
          "base_uri": "https://localhost:8080/"
        },
        "id": "iqcu93ew-TnW",
        "outputId": "87b2c86e-8343-4456-e7a6-ed5f3d7fbd7d"
      },
      "execution_count": null,
      "outputs": [
        {
          "output_type": "stream",
          "name": "stdout",
          "text": [
            "Power consumption (Linear Regression): 32.63196218022869\n",
            "Root Mean Squared Error (Linear Regression): 149.08098348364487\n",
            "Power consumption (Decision Tree): 54.0\n",
            "Root Mean Squared Error (Decision Tree): 186.5\n",
            "Linear Regression algorithm is better based on RMSE.\n"
          ]
        }
      ]
    },
    {
      "cell_type": "code",
      "source": [
        "import pandas as pd\n",
        "from sklearn.model_selection import train_test_split\n",
        "from sklearn.linear_model import LinearRegression\n",
        "from sklearn.tree import DecisionTreeRegressor\n",
        "from sklearn.metrics import mean_squared_error\n",
        "data = pd.read_csv('data200.csv')\n",
        "\n",
        "X = data[['Temperature', 'Time_of_Day', 'Light_Intensity']]\n",
        "y = data['Power_Consumption']\n",
        "X_train, X_test, y_train, y_test = train_test_split(X, y, test_size=0.2, random_state=42)\n",
        "lr_model = LinearRegression()\n",
        "lr_model.fit(X_train, y_train)\n",
        "\n",
        "dt_model = DecisionTreeRegressor(random_state=42)\n",
        "dt_model.fit(X_train, y_train)\n",
        "new_data = pd.DataFrame({'Temperature': [14], 'Time_of_Day': [7], 'Light_Intensity': [300]})\n",
        "lr_prediction = lr_model.predict(new_data)\n",
        "dt_prediction = dt_model.predict(new_data)\n",
        "lr_rmse = mean_squared_error(y_test, lr_model.predict(X_test))\n",
        "dt_rmse = mean_squared_error(y_test, dt_model.predict(X_test))\n",
        "\n",
        "print(f\"Power consumption (Linear Regression): {lr_prediction[0]}\")\n",
        "print(f\"Root Mean Squared Error (Linear Regression): {lr_rmse}\")\n",
        "print(f\"Power consumption (Decision Tree): {dt_prediction[0]}\")\n",
        "print(f\"Root Mean Squared Error (Decision Tree): {dt_rmse}\")\n",
        "if lr_rmse < dt_rmse:\n",
        "    print(\"Linear Regression algorithm is better based on RMSE.\")\n",
        "else:\n",
        "    print(\"Decision Tree algorithm is better based on RMSE.\")"
      ],
      "metadata": {
        "id": "fAWNuYF7AgOu",
        "colab": {
          "base_uri": "https://localhost:8080/"
        },
        "outputId": "204b7b47-de7e-4bc6-ccbe-ccab1fc79bf5"
      },
      "execution_count": 13,
      "outputs": [
        {
          "output_type": "stream",
          "name": "stdout",
          "text": [
            "Power consumption (Linear Regression): 35.04821002567138\n",
            "Root Mean Squared Error (Linear Regression): 147.02015644283404\n",
            "Power consumption (Decision Tree): 28.0\n",
            "Root Mean Squared Error (Decision Tree): 203.175\n",
            "Linear Regression algorithm is better based on RMSE.\n"
          ]
        }
      ]
    }
  ]
}